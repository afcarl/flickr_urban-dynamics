{
 "cells": [
  {
   "cell_type": "markdown",
   "metadata": {},
   "source": [
    "# Flickr data download"
   ]
  },
  {
   "cell_type": "code",
   "execution_count": null,
   "metadata": {},
   "outputs": [],
   "source": [
    "#Import all packages for interacting with Flickr API\n",
    "import flickrapi\n",
    "import csv\n",
    "import datetime"
   ]
  },
  {
   "cell_type": "markdown",
   "metadata": {},
   "source": [
    "We need to use Flickr API to require Flickr data. To use it, you need to have an API KEY and API SECRET to get permission to its API. Register an Flickr account and apply for them first.\n",
    "Here is the [link](https://www.flickr.com/services/api/misc.api_keys.html). "
   ]
  },
  {
   "cell_type": "code",
   "execution_count": null,
   "metadata": {},
   "outputs": [],
   "source": [
    "#Apply api_key and api_secret from Fickr API，\n",
    "api_key = 'xxxxxxxxxxxx'\n",
    "api_secret='xxxxxxxxxxxx'\n",
    "flickr = flickrapi.FlickrAPI(api_key, api_secret, cache=True)"
   ]
  },
  {
   "cell_type": "markdown",
   "metadata": {},
   "source": [
    "Flickr.photos_search function will return a list of photos matching some criteria. It allows you to search photos based on location, date, tag and so on."
   ]
  },
  {
   "cell_type": "code",
   "execution_count": null,
   "metadata": {},
   "outputs": [],
   "source": [
    "#Search all photos in a geographic area by defining a bounding box; \n",
    "#Unlike standard photo queries, geo (or bounding box) queries will only return 250 results per page,so use the threshold value to get the maximal number of photos per page.\n",
    "photos = flickr.photos.search(bbox='xxxx',extras='geo,date_taken',per_page=250)\n",
    "#define start date and end date for the time span you want to download photos\n",
    "begin_year = datetime.datetime(year, month, day, hour,minute,second)\n",
    "end_year = datetime.datetime(year, month, day, hour,minute,second)\n",
    "one_day = datetime.timedelta(days=1)\n",
    "#Time range for your data\n",
    "range_days = (end_year-begin_year).days\n",
    "#Flickr API has a limitation for the number of photos people can get it, if geo infomation is needed, only the first 2000 photos are allowed to query, so the number of pages cannot beyond 8 pages. \n",
    "pages=int(photos[0].attrib['pages'])\n",
    "if pages > 8:\n",
    "    pages = 8"
   ]
  },
  {
   "cell_type": "code",
   "execution_count": null,
   "metadata": {},
   "outputs": [],
   "source": [
    "#Create and open an empty csv file to store your data\n",
    "f = open('your_filename.csv','w')\n",
    "cw = csv.writer(f)\n",
    "#Name data columns\n",
    "cw.writerow(['user','lat','lon','date'])\n",
    "#Use for loops to iterately download all photos daily, \n",
    "#because generally the number of photos will not beyond the maximum number of photos Flickr API limited in this case. \n",
    "for day in range(range_days):\n",
    "    next_day = begin_year + datetime.timedelta(day)\n",
    "\n",
    "    for i in range(pages):\n",
    "        photos = flickr.photos.search(bbox='xxxx',\n",
    "                                    min_taken_date= next_day, max_taken_date= next_day + one_day,\n",
    "                                    extras='geo,date_taken',per_page=250,page=i+1)\n",
    "        \n",
    "        for photo in photos[0]:\n",
    "            user = photo.get('owner')\n",
    "            lat = photo.get('latitude')\n",
    "            lon = photo.get('longitude')\n",
    "            datetaken = photo.get('datetaken')\n",
    "            columntitle = [user,lat,lon,datetaken]\n",
    "            #write data into related columns\n",
    "            cw.writerow([user,lat,lon,datetaken])\n",
    "f.close()  \n",
    "#Save your data as csv file.\n",
    "f.to_csv('sample.csv',index = False)"
   ]
  }
 ],
 "metadata": {
  "kernelspec": {
   "display_name": "Python 3",
   "language": "python",
   "name": "python3"
  },
  "language_info": {
   "codemirror_mode": {
    "name": "ipython",
    "version": 3
   },
   "file_extension": ".py",
   "mimetype": "text/x-python",
   "name": "python",
   "nbconvert_exporter": "python",
   "pygments_lexer": "ipython3",
   "version": "3.6.5"
  }
 },
 "nbformat": 4,
 "nbformat_minor": 2
}
